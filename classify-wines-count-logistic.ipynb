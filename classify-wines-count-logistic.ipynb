{
 "cells": [
  {
   "cell_type": "code",
   "execution_count": 7,
   "metadata": {},
   "outputs": [],
   "source": [
    "import pandas as pd"
   ]
  },
  {
   "cell_type": "code",
   "execution_count": 8,
   "metadata": {},
   "outputs": [
    {
     "name": "stdout",
     "output_type": "stream",
     "text": [
      "Total number of reviews: 129970\n",
      "Reviews with null values: 1\n"
     ]
    }
   ],
   "source": [
    "# Import data in Pandas\n",
    "wine_reviews = pd.read_csv(\"winemag-data-130k-v2.csv\")\n",
    "\n",
    "# Drop all columns besides description & label\n",
    "wine_reviews = wine_reviews[['description', 'variety']]\n",
    "\n",
    "\n",
    "# wine_reviews.head()\n",
    "intial_size = len(wine_reviews)\n",
    "wine_reviews = wine_reviews.dropna()\n",
    "final_size = len(wine_reviews)\n",
    "\n",
    "print(\"Total number of reviews:\", final_size)\n",
    "print(\"Reviews with null values:\", (intial_size - final_size))"
   ]
  },
  {
   "cell_type": "code",
   "execution_count": 9,
   "metadata": {},
   "outputs": [
    {
     "name": "stdout",
     "output_type": "stream",
     "text": [
      "Number of reviews used in model: 129970\n"
     ]
    }
   ],
   "source": [
    "# Only use subset of data for efficiency purposes\n",
    "# wine_reviews = wine_reviews.sample(n = 50000)\n",
    "print(\"Number of reviews used in model:\", len(wine_reviews))"
   ]
  },
  {
   "cell_type": "code",
   "execution_count": 10,
   "metadata": {},
   "outputs": [],
   "source": [
    "# Split the data into train/test\n",
    "from sklearn.model_selection import train_test_split\n",
    "\n",
    "sentences = wine_reviews['description'].values\n",
    "labels = wine_reviews['variety'].values\n",
    "\n",
    "sentences_train, sentences_test, y_train, y_test = train_test_split(\n",
    "    sentences, labels, test_size=0.25, random_state=1000)"
   ]
  },
  {
   "cell_type": "code",
   "execution_count": 11,
   "metadata": {},
   "outputs": [],
   "source": [
    "# Vectorize the sentences\n",
    "from sklearn.feature_extraction.text import CountVectorizer\n",
    "\n",
    "vectorizer = CountVectorizer()\n",
    "vectorizer.fit(sentences_train)\n",
    "\n",
    "X_train = vectorizer.transform(sentences_train)\n",
    "X_test = vectorizer.transform(sentences_test)"
   ]
  },
  {
   "cell_type": "code",
   "execution_count": null,
   "metadata": {},
   "outputs": [
    {
     "name": "stderr",
     "output_type": "stream",
     "text": [
      "[Parallel(n_jobs=1)]: Using backend SequentialBackend with 1 concurrent workers.\n"
     ]
    }
   ],
   "source": [
    "# Train Logistic Regression model and determine acuracy score \n",
    "# using test data\n",
    "from sklearn.linear_model import LogisticRegression\n",
    "\n",
    "classifier = LogisticRegression(solver='sag', C=10, verbose=1)\n",
    "classifier.fit(X_train, y_train)\n",
    "score = classifier.score(X_test, y_test)\n",
    "\n",
    "print(\"Accuracy:\", score)"
   ]
  },
  {
   "cell_type": "code",
   "execution_count": null,
   "metadata": {},
   "outputs": [],
   "source": []
  }
 ],
 "metadata": {
  "kernelspec": {
   "display_name": "Python 3",
   "language": "python",
   "name": "python3"
  },
  "language_info": {
   "codemirror_mode": {
    "name": "ipython",
    "version": 3
   },
   "file_extension": ".py",
   "mimetype": "text/x-python",
   "name": "python",
   "nbconvert_exporter": "python",
   "pygments_lexer": "ipython3",
   "version": "3.7.3"
  }
 },
 "nbformat": 4,
 "nbformat_minor": 2
}
